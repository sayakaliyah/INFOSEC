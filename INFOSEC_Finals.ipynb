{
 "cells": [
  {
   "cell_type": "code",
   "execution_count": 13,
   "id": "40acef2e",
   "metadata": {},
   "outputs": [
    {
     "name": "stdout",
     "output_type": "stream",
     "text": [
      "Ranking of security measures for protecting online payments from phishing attacks:\n",
      "1. Upgrade Technical Security (Closeness: 0.8184)\n",
      "2. Improve User Awareness (Closeness: 0.7363)\n",
      "3. Enhance Email Authentication (Closeness: 0.6170)\n",
      "4. Strengthen Incident Response (Closeness: 0.5826)\n",
      "5. Reduce Costs (Closeness: 0.2993)\n"
     ]
    }
   ],
   "source": [
    "import numpy as np\n",
    "\n",
    "# criteria for security measures to protect online payments\n",
    "criteria = [\"Email Authenticity\", \"User Awareness\", \"Technical Security\", \"Incident Response\", \"Cost\", \"Compliance\", \"Effectiveness\", \"User Trust\"]\n",
    "\n",
    "#possible security measures or strategies\n",
    "alternatives = [\"Enhance Email Authentication\", \"Improve User Awareness\", \"Upgrade Technical Security\", \"Strengthen Incident Response\", \"Reduce Costs\", \"Ensure Compliance\", \"Enhance Effectiveness\", \"Build User Trust\"]\n",
    "\n",
    "# create matrix: rows represent alternatives and columns represent criteria \n",
    "# historical data or automated data\n",
    "data = np.array([\n",
    "    [0.8, 0.7, 0.9, 0.6, 0.3, 0.8, 0.8, 0.7],  \n",
    "    [0.7, 0.9, 0.7, 0.8, 0.6, 0.7, 0.7, 0.9],\n",
    "    [0.9, 0.8, 0.9, 0.7, 0.8, 0.8, 0.8, 0.7],\n",
    "    [0.6, 0.6, 0.6, 0.9, 0.5, 0.6, 0.6, 0.8],\n",
    "    [0.3, 0.4, 0.3, 0.4, 0.9, 0.3, 0.3, 0.2],\n",
    "])\n",
    "\n",
    "# Normalize the data to bring it to a common scale\n",
    "normalized_data = data / np.linalg.norm(data, axis=0)\n",
    "\n",
    "# assign weights to each criteria\n",
    "# sum of weights equals to 1\n",
    "weights = np.array([0.15, 0.1, 0.12, 0.13, 0.1, 0.1, 0.15, 0.15])\n",
    "\n",
    "# TOPSIS \n",
    "# Calculate the Positive and Negative Ideal Solutions\n",
    "ideal_positive = normalized_data.max(axis=0)\n",
    "ideal_negative = normalized_data.min(axis=0)\n",
    "\n",
    "# Calculate the Distance to Positive and Negative Ideals\n",
    "distance_to_positive = np.linalg.norm(normalized_data - ideal_positive, axis=1)\n",
    "distance_to_negative = np.linalg.norm(normalized_data - ideal_negative, axis=1)\n",
    "\n",
    "# Calculate the Relative Closeness to the Ideal Solution\n",
    "closeness = distance_to_negative / (distance_to_positive + distance_to_negative)\n",
    "\n",
    "# Rank Alternatives\n",
    "ranked_indices = np.argsort(closeness)[::-1]\n",
    "\n",
    "# Results\n",
    "print(\"Ranking of security measures for protecting online payments from phishing attacks:\")\n",
    "for i, index in enumerate(ranked_indices):\n",
    "    print(f\"{i + 1}. {alternatives[index]} (Closeness: {closeness[index]:.4f})\")\n"
   ]
  },
  {
   "cell_type": "code",
   "execution_count": null,
   "id": "826ba46e",
   "metadata": {},
   "outputs": [],
   "source": []
  }
 ],
 "metadata": {
  "kernelspec": {
   "display_name": "Python 3 (ipykernel)",
   "language": "python",
   "name": "python3"
  },
  "language_info": {
   "codemirror_mode": {
    "name": "ipython",
    "version": 3
   },
   "file_extension": ".py",
   "mimetype": "text/x-python",
   "name": "python",
   "nbconvert_exporter": "python",
   "pygments_lexer": "ipython3",
   "version": "3.11.5"
  }
 },
 "nbformat": 4,
 "nbformat_minor": 5
}
